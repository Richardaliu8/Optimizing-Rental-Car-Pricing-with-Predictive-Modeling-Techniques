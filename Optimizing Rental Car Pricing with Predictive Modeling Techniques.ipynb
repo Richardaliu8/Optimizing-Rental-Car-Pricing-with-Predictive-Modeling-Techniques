{
 "cells": [
  {
   "cell_type": "markdown",
   "metadata": {},
   "source": [
    "## BAX 452 001-002 WQ 2024 Machine Learning\n",
    "## Final Project\n",
    "## Group 5\n",
    "## Richard Liu, Shivank Chandra"
   ]
  },
  {
   "cell_type": "code",
   "execution_count": 65,
   "metadata": {},
   "outputs": [],
   "source": [
    "import os\n",
    "import pandas as pd\n",
    "import numpy as np\n",
    "import seaborn as sns\n",
    "import statsmodels.api as sm\n",
    "import statsmodels.formula.api as smf\n",
    "import matplotlib.pyplot as plt\n",
    "from scipy.stats import kstest\n",
    "from sklearn.preprocessing import OneHotEncoder\n",
    "from sklearn.model_selection import train_test_split\n",
    "from sklearn.metrics import mean_squared_error, r2_score\n",
    "from sklearn.preprocessing import StandardScaler, LabelEncoder\n",
    "from sklearn.linear_model import LogisticRegression, Lasso, LinearRegression, LassoCV\n",
    "from sklearn.metrics import accuracy_score, classification_report, confusion_matrix, mean_squared_error, r2_score\n",
    "from sklearn.ensemble import RandomForestRegressor\n",
    "from sklearn import tree\n",
    "import xgboost as xgb\n",
    "\n",
    "\n"
   ]
  },
  {
   "cell_type": "code",
   "execution_count": 66,
   "metadata": {},
   "outputs": [
    {
     "name": "stdout",
     "output_type": "stream",
     "text": [
      "Current working directory: /Users/richardaliu/Downloads/Winter/BAX 452/Final Project\n"
     ]
    }
   ],
   "source": [
    "directory_path = '/Users/richardaliu/Downloads/Winter/BAX 452/Final Project'\n",
    "os.chdir(directory_path)\n",
    "current_directory = os.getcwd()\n",
    "print(\"Current working directory:\", current_directory)"
   ]
  },
  {
   "cell_type": "markdown",
   "metadata": {},
   "source": [
    "1. Data Exploration and Visualization"
   ]
  },
  {
   "cell_type": "code",
   "execution_count": 67,
   "metadata": {},
   "outputs": [
    {
     "data": {
      "text/html": [
       "<div>\n",
       "<style scoped>\n",
       "    .dataframe tbody tr th:only-of-type {\n",
       "        vertical-align: middle;\n",
       "    }\n",
       "\n",
       "    .dataframe tbody tr th {\n",
       "        vertical-align: top;\n",
       "    }\n",
       "\n",
       "    .dataframe thead th {\n",
       "        text-align: right;\n",
       "    }\n",
       "</style>\n",
       "<table border=\"1\" class=\"dataframe\">\n",
       "  <thead>\n",
       "    <tr style=\"text-align: right;\">\n",
       "      <th></th>\n",
       "      <th>Unnamed: 0</th>\n",
       "      <th>Seats</th>\n",
       "      <th>Storage</th>\n",
       "    </tr>\n",
       "  </thead>\n",
       "  <tbody>\n",
       "    <tr>\n",
       "      <th>count</th>\n",
       "      <td>343.000000</td>\n",
       "      <td>343.000000</td>\n",
       "      <td>343.000000</td>\n",
       "    </tr>\n",
       "    <tr>\n",
       "      <th>mean</th>\n",
       "      <td>171.000000</td>\n",
       "      <td>5.163265</td>\n",
       "      <td>2.562682</td>\n",
       "    </tr>\n",
       "    <tr>\n",
       "      <th>std</th>\n",
       "      <td>99.159804</td>\n",
       "      <td>1.183287</td>\n",
       "      <td>0.757810</td>\n",
       "    </tr>\n",
       "    <tr>\n",
       "      <th>min</th>\n",
       "      <td>0.000000</td>\n",
       "      <td>4.000000</td>\n",
       "      <td>1.000000</td>\n",
       "    </tr>\n",
       "    <tr>\n",
       "      <th>25%</th>\n",
       "      <td>85.500000</td>\n",
       "      <td>5.000000</td>\n",
       "      <td>2.000000</td>\n",
       "    </tr>\n",
       "    <tr>\n",
       "      <th>50%</th>\n",
       "      <td>171.000000</td>\n",
       "      <td>5.000000</td>\n",
       "      <td>3.000000</td>\n",
       "    </tr>\n",
       "    <tr>\n",
       "      <th>75%</th>\n",
       "      <td>256.500000</td>\n",
       "      <td>5.000000</td>\n",
       "      <td>3.000000</td>\n",
       "    </tr>\n",
       "    <tr>\n",
       "      <th>max</th>\n",
       "      <td>342.000000</td>\n",
       "      <td>15.000000</td>\n",
       "      <td>4.000000</td>\n",
       "    </tr>\n",
       "  </tbody>\n",
       "</table>\n",
       "</div>"
      ],
      "text/plain": [
       "       Unnamed: 0       Seats     Storage\n",
       "count  343.000000  343.000000  343.000000\n",
       "mean   171.000000    5.163265    2.562682\n",
       "std     99.159804    1.183287    0.757810\n",
       "min      0.000000    4.000000    1.000000\n",
       "25%     85.500000    5.000000    2.000000\n",
       "50%    171.000000    5.000000    3.000000\n",
       "75%    256.500000    5.000000    3.000000\n",
       "max    342.000000   15.000000    4.000000"
      ]
     },
     "execution_count": 67,
     "metadata": {},
     "output_type": "execute_result"
    }
   ],
   "source": [
    "car = 'car_rental_data.csv'\n",
    "df = pd.read_csv(car)\n",
    "df.dropna(inplace=True)\n",
    "df.describe()"
   ]
  },
  {
   "cell_type": "code",
   "execution_count": 68,
   "metadata": {},
   "outputs": [
    {
     "data": {
      "text/html": [
       "<div>\n",
       "<style scoped>\n",
       "    .dataframe tbody tr th:only-of-type {\n",
       "        vertical-align: middle;\n",
       "    }\n",
       "\n",
       "    .dataframe tbody tr th {\n",
       "        vertical-align: top;\n",
       "    }\n",
       "\n",
       "    .dataframe thead th {\n",
       "        text-align: right;\n",
       "    }\n",
       "</style>\n",
       "<table border=\"1\" class=\"dataframe\">\n",
       "  <thead>\n",
       "    <tr style=\"text-align: right;\">\n",
       "      <th></th>\n",
       "      <th>Unnamed: 0</th>\n",
       "      <th>Car_Name</th>\n",
       "      <th>Supplier</th>\n",
       "      <th>Tier</th>\n",
       "      <th>Seats</th>\n",
       "      <th>Storage</th>\n",
       "      <th>Pickup</th>\n",
       "      <th>Price</th>\n",
       "    </tr>\n",
       "  </thead>\n",
       "  <tbody>\n",
       "    <tr>\n",
       "      <th>0</th>\n",
       "      <td>0</td>\n",
       "      <td>Ford Focus</td>\n",
       "      <td>Thrifty</td>\n",
       "      <td>Compact</td>\n",
       "      <td>5</td>\n",
       "      <td>2.0</td>\n",
       "      <td>San Francisco International Airport</td>\n",
       "      <td>84.96</td>\n",
       "    </tr>\n",
       "    <tr>\n",
       "      <th>1</th>\n",
       "      <td>1</td>\n",
       "      <td>Ford Fusion</td>\n",
       "      <td>Thrifty</td>\n",
       "      <td>Full-Size</td>\n",
       "      <td>5</td>\n",
       "      <td>3.0</td>\n",
       "      <td>San Francisco International Airport</td>\n",
       "      <td>101.12</td>\n",
       "    </tr>\n",
       "    <tr>\n",
       "      <th>2</th>\n",
       "      <td>2</td>\n",
       "      <td>Ford Escape</td>\n",
       "      <td>Thrifty</td>\n",
       "      <td>Intermediate</td>\n",
       "      <td>5</td>\n",
       "      <td>3.0</td>\n",
       "      <td>San Francisco International Airport</td>\n",
       "      <td>101.50</td>\n",
       "    </tr>\n",
       "    <tr>\n",
       "      <th>3</th>\n",
       "      <td>3</td>\n",
       "      <td>Toyota Yaris</td>\n",
       "      <td>Fox</td>\n",
       "      <td>Economy</td>\n",
       "      <td>4</td>\n",
       "      <td>1.0</td>\n",
       "      <td>Metropolitan Oakland International Airport</td>\n",
       "      <td>57</td>\n",
       "    </tr>\n",
       "    <tr>\n",
       "      <th>4</th>\n",
       "      <td>4</td>\n",
       "      <td>Toyota Yaris</td>\n",
       "      <td>Fox Rent A Car</td>\n",
       "      <td>Economy</td>\n",
       "      <td>4</td>\n",
       "      <td>1.0</td>\n",
       "      <td>Metropolitan Oakland International Airport</td>\n",
       "      <td>71</td>\n",
       "    </tr>\n",
       "  </tbody>\n",
       "</table>\n",
       "</div>"
      ],
      "text/plain": [
       "   Unnamed: 0      Car_Name        Supplier          Tier  Seats  Storage  \\\n",
       "0           0    Ford Focus         Thrifty       Compact      5      2.0   \n",
       "1           1   Ford Fusion         Thrifty     Full-Size      5      3.0   \n",
       "2           2   Ford Escape         Thrifty  Intermediate      5      3.0   \n",
       "3           3  Toyota Yaris             Fox       Economy      4      1.0   \n",
       "4           4  Toyota Yaris  Fox Rent A Car       Economy      4      1.0   \n",
       "\n",
       "                                       Pickup   Price  \n",
       "0         San Francisco International Airport   84.96  \n",
       "1         San Francisco International Airport  101.12  \n",
       "2         San Francisco International Airport  101.50  \n",
       "3  Metropolitan Oakland International Airport      57  \n",
       "4  Metropolitan Oakland International Airport      71  "
      ]
     },
     "execution_count": 68,
     "metadata": {},
     "output_type": "execute_result"
    }
   ],
   "source": [
    "df.head()"
   ]
  },
  {
   "cell_type": "code",
   "execution_count": 69,
   "metadata": {},
   "outputs": [
    {
     "name": "stdout",
     "output_type": "stream",
     "text": [
      "<class 'pandas.core.frame.DataFrame'>\n",
      "Index: 343 entries, 0 to 342\n",
      "Data columns (total 8 columns):\n",
      " #   Column      Non-Null Count  Dtype  \n",
      "---  ------      --------------  -----  \n",
      " 0   Unnamed: 0  343 non-null    int64  \n",
      " 1   Car_Name    343 non-null    object \n",
      " 2   Supplier    343 non-null    object \n",
      " 3   Tier        343 non-null    object \n",
      " 4   Seats       343 non-null    int64  \n",
      " 5   Storage     343 non-null    float64\n",
      " 6   Pickup      343 non-null    object \n",
      " 7   Price       343 non-null    object \n",
      "dtypes: float64(1), int64(2), object(5)\n",
      "memory usage: 24.1+ KB\n"
     ]
    }
   ],
   "source": [
    "df.info()"
   ]
  },
  {
   "cell_type": "code",
   "execution_count": 70,
   "metadata": {},
   "outputs": [
    {
     "name": "stdout",
     "output_type": "stream",
     "text": [
      "Unnamed: 0    0\n",
      "Car_Name      0\n",
      "Supplier      0\n",
      "Tier          0\n",
      "Seats         0\n",
      "Storage       0\n",
      "Pickup        0\n",
      "Price         0\n",
      "dtype: int64\n"
     ]
    }
   ],
   "source": [
    "null_count = df.isnull().sum()\n",
    "print(null_count)"
   ]
  },
  {
   "cell_type": "code",
   "execution_count": 71,
   "metadata": {},
   "outputs": [
    {
     "data": {
      "image/png": "[encoded data removed]",
      "text/plain": [
       "<Figure size 1000x600 with 1 Axes>"
      ]
     },
     "metadata": {},
     "output_type": "display_data"
    }
   ],
   "source": [
    "# 1. Histogram for Price\n",
    "plt.figure(figsize=(10, 6))\n",
    "sns.histplot(df['Price'], bins=20, kde=True)\n",
    "plt.title('Distribution of Prices')\n",
    "plt.xlabel('Price')\n",
    "plt.ylabel('Frequency')\n",
    "plt.show()"
   ]
  },
  {
   "cell_type": "code",
   "execution_count": 72,
   "metadata": {},
   "outputs": [
    {
     "data": {
      "image/png": "[encoded data removed]",
      "text/plain": [
       "<Figure size 1000x600 with 1 Axes>"
      ]
     },
     "metadata": {},
     "output_type": "display_data"
    }
   ],
   "source": [
    "# Bar Graph\n",
    "df['Supplier'].value_counts().sort_index().plot(kind='bar', figsize=(10, 6))\n",
    "plt.title('Number of Car per Supplier')\n",
    "plt.xlabel('Supplier')\n",
    "plt.ylabel('Count')\n",
    "plt.show()"
   ]
  },
  {
   "cell_type": "markdown",
   "metadata": {},
   "source": [
    "Linear Regression"
   ]
  },
  {
   "cell_type": "code",
   "execution_count": 73,
   "metadata": {},
   "outputs": [],
   "source": [
    "#Set Pickup area into numeric value\n",
    "df['Pickup'] = df['Pickup'].map({\n",
    "    'San Francisco International Airport': 1,\n",
    "    'Metropolitan Oakland International Airport': 2,\n",
    "    'San Francisco - Yerba Buena': 3\n",
    "})"
   ]
  },
  {
   "cell_type": "code",
   "execution_count": 74,
   "metadata": {},
   "outputs": [],
   "source": [
    "#Organize Supplier name\n",
    "df['Supplier'] = df['Supplier'].replace({'Fox Rent A Car': 'Fox'})\n",
    "\n",
    "df['Supplier'] = df['Supplier'].replace({'Thrifty Car Rental': 'Thrifty'})"
   ]
  },
  {
   "cell_type": "code",
   "execution_count": 75,
   "metadata": {},
   "outputs": [
    {
     "name": "stderr",
     "output_type": "stream",
     "text": [
      "/Users/richardaliu/anaconda3/lib/python3.11/site-packages/sklearn/preprocessing/_encoders.py:972: FutureWarning: `sparse` was renamed to `sparse_output` in version 1.2 and will be removed in 1.4. `sparse_output` is ignored unless you leave `sparse` to its default value.\n",
      "  warnings.warn(\n"
     ]
    }
   ],
   "source": [
    "encoder = OneHotEncoder(sparse=False)\n",
    "encoded_columns = encoder.fit_transform(df[['Supplier', 'Tier']])"
   ]
  },
  {
   "cell_type": "code",
   "execution_count": 76,
   "metadata": {},
   "outputs": [],
   "source": [
    "encoded_df = pd.DataFrame(encoded_columns, columns=encoder.get_feature_names_out(['Supplier', 'Tier']))"
   ]
  },
  {
   "cell_type": "code",
   "execution_count": 77,
   "metadata": {},
   "outputs": [],
   "source": [
    "df_combined = pd.concat([df, encoded_df], axis=1)"
   ]
  },
  {
   "cell_type": "code",
   "execution_count": 78,
   "metadata": {},
   "outputs": [],
   "source": [
    "df_combined = df_combined.drop(['Car_Name', 'Tier', 'Supplier'], axis=1)"
   ]
  },
  {
   "cell_type": "code",
   "execution_count": 79,
   "metadata": {},
   "outputs": [
    {
     "name": "stdout",
     "output_type": "stream",
     "text": [
      "<class 'pandas.core.frame.DataFrame'>\n",
      "Index: 343 entries, 0 to 342\n",
      "Data columns (total 25 columns):\n",
      " #   Column               Non-Null Count  Dtype  \n",
      "---  ------               --------------  -----  \n",
      " 0   Unnamed: 0           343 non-null    int64  \n",
      " 1   Seats                343 non-null    int64  \n",
      " 2   Storage              343 non-null    float64\n",
      " 3   Pickup               343 non-null    int64  \n",
      " 4   Price                343 non-null    object \n",
      " 5   Supplier_Alamo       343 non-null    float64\n",
      " 6   Supplier_Avis        343 non-null    float64\n",
      " 7   Supplier_Budget      343 non-null    float64\n",
      " 8   Supplier_Dollar      343 non-null    float64\n",
      " 9   Supplier_Enterprise  343 non-null    float64\n",
      " 10  Supplier_Fox         343 non-null    float64\n",
      " 11  Supplier_Hertz       343 non-null    float64\n",
      " 12  Supplier_National    343 non-null    float64\n",
      " 13  Supplier_Payless     343 non-null    float64\n",
      " 14  Supplier_Sixt        343 non-null    float64\n",
      " 15  Supplier_Thrifty     343 non-null    float64\n",
      " 16  Tier_Compact         343 non-null    float64\n",
      " 17  Tier_Economy         343 non-null    float64\n",
      " 18  Tier_Full-Size       343 non-null    float64\n",
      " 19  Tier_Intermediate    343 non-null    float64\n",
      " 20  Tier_Luxury          343 non-null    float64\n",
      " 21  Tier_Minivan         343 non-null    float64\n",
      " 22  Tier_Premium         343 non-null    float64\n",
      " 23  Tier_Special         343 non-null    float64\n",
      " 24  Tier_Standard        343 non-null    float64\n",
      "dtypes: float64(21), int64(3), object(1)\n",
      "memory usage: 69.7+ KB\n"
     ]
    }
   ],
   "source": [
    "df_combined.info()"
   ]
  },
  {
   "cell_type": "code",
   "execution_count": 80,
   "metadata": {},
   "outputs": [],
   "source": [
    "df_combined['Price'] = pd.to_numeric(df_combined['Price'], errors='coerce')"
   ]
  },
  {
   "cell_type": "code",
   "execution_count": 81,
   "metadata": {},
   "outputs": [],
   "source": [
    "df_combined = df_combined.drop(columns=[df_combined.columns[0]])"
   ]
  },
  {
   "cell_type": "code",
   "execution_count": 82,
   "metadata": {},
   "outputs": [],
   "source": [
    "df_new = df_combined.drop(['Price'], axis=1)"
   ]
  },
  {
   "cell_type": "code",
   "execution_count": 83,
   "metadata": {},
   "outputs": [
    {
     "data": {
      "text/html": [
       "<div>\n",
       "<style scoped>\n",
       "    .dataframe tbody tr th:only-of-type {\n",
       "        vertical-align: middle;\n",
       "    }\n",
       "\n",
       "    .dataframe tbody tr th {\n",
       "        vertical-align: top;\n",
       "    }\n",
       "\n",
       "    .dataframe thead th {\n",
       "        text-align: right;\n",
       "    }\n",
       "</style>\n",
       "<table border=\"1\" class=\"dataframe\">\n",
       "  <thead>\n",
       "    <tr style=\"text-align: right;\">\n",
       "      <th></th>\n",
       "      <th>Seats</th>\n",
       "      <th>Storage</th>\n",
       "      <th>Pickup</th>\n",
       "      <th>Supplier_Alamo</th>\n",
       "      <th>Supplier_Avis</th>\n",
       "      <th>Supplier_Budget</th>\n",
       "      <th>Supplier_Dollar</th>\n",
       "      <th>Supplier_Enterprise</th>\n",
       "      <th>Supplier_Fox</th>\n",
       "      <th>Supplier_Hertz</th>\n",
       "      <th>...</th>\n",
       "      <th>Supplier_Thrifty</th>\n",
       "      <th>Tier_Compact</th>\n",
       "      <th>Tier_Economy</th>\n",
       "      <th>Tier_Full-Size</th>\n",
       "      <th>Tier_Intermediate</th>\n",
       "      <th>Tier_Luxury</th>\n",
       "      <th>Tier_Minivan</th>\n",
       "      <th>Tier_Premium</th>\n",
       "      <th>Tier_Special</th>\n",
       "      <th>Tier_Standard</th>\n",
       "    </tr>\n",
       "  </thead>\n",
       "  <tbody>\n",
       "    <tr>\n",
       "      <th>0</th>\n",
       "      <td>5</td>\n",
       "      <td>2.0</td>\n",
       "      <td>1</td>\n",
       "      <td>0.0</td>\n",
       "      <td>0.0</td>\n",
       "      <td>0.0</td>\n",
       "      <td>0.0</td>\n",
       "      <td>0.0</td>\n",
       "      <td>0.0</td>\n",
       "      <td>0.0</td>\n",
       "      <td>...</td>\n",
       "      <td>1.0</td>\n",
       "      <td>1.0</td>\n",
       "      <td>0.0</td>\n",
       "      <td>0.0</td>\n",
       "      <td>0.0</td>\n",
       "      <td>0.0</td>\n",
       "      <td>0.0</td>\n",
       "      <td>0.0</td>\n",
       "      <td>0.0</td>\n",
       "      <td>0.0</td>\n",
       "    </tr>\n",
       "    <tr>\n",
       "      <th>1</th>\n",
       "      <td>5</td>\n",
       "      <td>3.0</td>\n",
       "      <td>1</td>\n",
       "      <td>0.0</td>\n",
       "      <td>0.0</td>\n",
       "      <td>0.0</td>\n",
       "      <td>0.0</td>\n",
       "      <td>0.0</td>\n",
       "      <td>0.0</td>\n",
       "      <td>0.0</td>\n",
       "      <td>...</td>\n",
       "      <td>1.0</td>\n",
       "      <td>0.0</td>\n",
       "      <td>0.0</td>\n",
       "      <td>1.0</td>\n",
       "      <td>0.0</td>\n",
       "      <td>0.0</td>\n",
       "      <td>0.0</td>\n",
       "      <td>0.0</td>\n",
       "      <td>0.0</td>\n",
       "      <td>0.0</td>\n",
       "    </tr>\n",
       "    <tr>\n",
       "      <th>2</th>\n",
       "      <td>5</td>\n",
       "      <td>3.0</td>\n",
       "      <td>1</td>\n",
       "      <td>0.0</td>\n",
       "      <td>0.0</td>\n",
       "      <td>0.0</td>\n",
       "      <td>0.0</td>\n",
       "      <td>0.0</td>\n",
       "      <td>0.0</td>\n",
       "      <td>0.0</td>\n",
       "      <td>...</td>\n",
       "      <td>1.0</td>\n",
       "      <td>0.0</td>\n",
       "      <td>0.0</td>\n",
       "      <td>0.0</td>\n",
       "      <td>1.0</td>\n",
       "      <td>0.0</td>\n",
       "      <td>0.0</td>\n",
       "      <td>0.0</td>\n",
       "      <td>0.0</td>\n",
       "      <td>0.0</td>\n",
       "    </tr>\n",
       "    <tr>\n",
       "      <th>3</th>\n",
       "      <td>4</td>\n",
       "      <td>1.0</td>\n",
       "      <td>2</td>\n",
       "      <td>0.0</td>\n",
       "      <td>0.0</td>\n",
       "      <td>0.0</td>\n",
       "      <td>0.0</td>\n",
       "      <td>0.0</td>\n",
       "      <td>1.0</td>\n",
       "      <td>0.0</td>\n",
       "      <td>...</td>\n",
       "      <td>0.0</td>\n",
       "      <td>0.0</td>\n",
       "      <td>1.0</td>\n",
       "      <td>0.0</td>\n",
       "      <td>0.0</td>\n",
       "      <td>0.0</td>\n",
       "      <td>0.0</td>\n",
       "      <td>0.0</td>\n",
       "      <td>0.0</td>\n",
       "      <td>0.0</td>\n",
       "    </tr>\n",
       "    <tr>\n",
       "      <th>4</th>\n",
       "      <td>4</td>\n",
       "      <td>1.0</td>\n",
       "      <td>2</td>\n",
       "      <td>0.0</td>\n",
       "      <td>0.0</td>\n",
       "      <td>0.0</td>\n",
       "      <td>0.0</td>\n",
       "      <td>0.0</td>\n",
       "      <td>1.0</td>\n",
       "      <td>0.0</td>\n",
       "      <td>...</td>\n",
       "      <td>0.0</td>\n",
       "      <td>0.0</td>\n",
       "      <td>1.0</td>\n",
       "      <td>0.0</td>\n",
       "      <td>0.0</td>\n",
       "      <td>0.0</td>\n",
       "      <td>0.0</td>\n",
       "      <td>0.0</td>\n",
       "      <td>0.0</td>\n",
       "      <td>0.0</td>\n",
       "    </tr>\n",
       "  </tbody>\n",
       "</table>\n",
       "<p>5 rows × 23 columns</p>\n",
       "</div>"
      ],
      "text/plain": [
       "   Seats  Storage  Pickup  Supplier_Alamo  Supplier_Avis  Supplier_Budget  \\\n",
       "0      5      2.0       1             0.0            0.0              0.0   \n",
       "1      5      3.0       1             0.0            0.0              0.0   \n",
       "2      5      3.0       1             0.0            0.0              0.0   \n",
       "3      4      1.0       2             0.0            0.0              0.0   \n",
       "4      4      1.0       2             0.0            0.0              0.0   \n",
       "\n",
       "   Supplier_Dollar  Supplier_Enterprise  Supplier_Fox  Supplier_Hertz  ...  \\\n",
       "0              0.0                  0.0           0.0             0.0  ...   \n",
       "1              0.0                  0.0           0.0             0.0  ...   \n",
       "2              0.0                  0.0           0.0             0.0  ...   \n",
       "3              0.0                  0.0           1.0             0.0  ...   \n",
       "4              0.0                  0.0           1.0             0.0  ...   \n",
       "\n",
       "   Supplier_Thrifty  Tier_Compact  Tier_Economy  Tier_Full-Size  \\\n",
       "0               1.0           1.0           0.0             0.0   \n",
       "1               1.0           0.0           0.0             1.0   \n",
       "2               1.0           0.0           0.0             0.0   \n",
       "3               0.0           0.0           1.0             0.0   \n",
       "4               0.0           0.0           1.0             0.0   \n",
       "\n",
       "   Tier_Intermediate  Tier_Luxury  Tier_Minivan  Tier_Premium  Tier_Special  \\\n",
       "0                0.0          0.0           0.0           0.0           0.0   \n",
       "1                0.0          0.0           0.0           0.0           0.0   \n",
       "2                1.0          0.0           0.0           0.0           0.0   \n",
       "3                0.0          0.0           0.0           0.0           0.0   \n",
       "4                0.0          0.0           0.0           0.0           0.0   \n",
       "\n",
       "   Tier_Standard  \n",
       "0            0.0  \n",
       "1            0.0  \n",
       "2            0.0  \n",
       "3            0.0  \n",
       "4            0.0  \n",
       "\n",
       "[5 rows x 23 columns]"
      ]
     },
     "execution_count": 83,
     "metadata": {},
     "output_type": "execute_result"
    }
   ],
   "source": [
    "df_new.head()"
   ]
  },
  {
   "cell_type": "code",
   "execution_count": 84,
   "metadata": {},
   "outputs": [
    {
     "name": "stdout",
     "output_type": "stream",
     "text": [
      "<class 'pandas.core.frame.DataFrame'>\n",
      "Index: 343 entries, 0 to 342\n",
      "Data columns (total 23 columns):\n",
      " #   Column               Non-Null Count  Dtype  \n",
      "---  ------               --------------  -----  \n",
      " 0   Seats                343 non-null    int64  \n",
      " 1   Storage              343 non-null    float64\n",
      " 2   Pickup               343 non-null    int64  \n",
      " 3   Supplier_Alamo       343 non-null    float64\n",
      " 4   Supplier_Avis        343 non-null    float64\n",
      " 5   Supplier_Budget      343 non-null    float64\n",
      " 6   Supplier_Dollar      343 non-null    float64\n",
      " 7   Supplier_Enterprise  343 non-null    float64\n",
      " 8   Supplier_Fox         343 non-null    float64\n",
      " 9   Supplier_Hertz       343 non-null    float64\n",
      " 10  Supplier_National    343 non-null    float64\n",
      " 11  Supplier_Payless     343 non-null    float64\n",
      " 12  Supplier_Sixt        343 non-null    float64\n",
      " 13  Supplier_Thrifty     343 non-null    float64\n",
      " 14  Tier_Compact         343 non-null    float64\n",
      " 15  Tier_Economy         343 non-null    float64\n",
      " 16  Tier_Full-Size       343 non-null    float64\n",
      " 17  Tier_Intermediate    343 non-null    float64\n",
      " 18  Tier_Luxury          343 non-null    float64\n",
      " 19  Tier_Minivan         343 non-null    float64\n",
      " 20  Tier_Premium         343 non-null    float64\n",
      " 21  Tier_Special         343 non-null    float64\n",
      " 22  Tier_Standard        343 non-null    float64\n",
      "dtypes: float64(21), int64(2)\n",
      "memory usage: 64.3 KB\n"
     ]
    }
   ],
   "source": [
    "df_new.info()"
   ]
  },
  {
   "cell_type": "code",
   "execution_count": 85,
   "metadata": {},
   "outputs": [
    {
     "name": "stdout",
     "output_type": "stream",
     "text": [
      "                            OLS Regression Results                            \n",
      "==============================================================================\n",
      "Dep. Variable:                      y   R-squared:                       0.650\n",
      "Model:                            OLS   Adj. R-squared:                  0.627\n",
      "Method:                 Least Squares   F-statistic:                     28.42\n",
      "Date:                Sun, 24 Mar 2024   Prob (F-statistic):           1.11e-60\n",
      "Time:                        23:06:42   Log-Likelihood:                -1803.5\n",
      "No. Observations:                 343   AIC:                             3651.\n",
      "Df Residuals:                     321   BIC:                             3735.\n",
      "Df Model:                          21                                         \n",
      "Covariance Type:            nonrobust                                         \n",
      "==============================================================================\n",
      "                 coef    std err          t      P>|t|      [0.025      0.975]\n",
      "------------------------------------------------------------------------------\n",
      "Intercept     54.3356     15.624      3.478      0.001      23.597      85.074\n",
      "X[0]          21.2940      2.622      8.120      0.000      16.135      26.453\n",
      "X[1]          18.1445      3.873      4.684      0.000      10.524      25.765\n",
      "X[2]          -9.5174      5.217     -1.824      0.069     -19.781       0.746\n",
      "X[3]          -8.2780      8.166     -1.014      0.311     -24.343       7.787\n",
      "X[4]          61.5432      8.368      7.355      0.000      45.080      78.006\n",
      "X[5]          51.7485      8.069      6.413      0.000      35.873      67.624\n",
      "X[6]         -26.1525      8.409     -3.110      0.002     -42.696      -9.609\n",
      "X[7]          18.7250      8.056      2.324      0.021       2.876      34.574\n",
      "X[8]         -68.5440     10.302     -6.654      0.000     -88.812     -48.277\n",
      "X[9]          -8.7960      8.169     -1.077      0.282     -24.868       7.276\n",
      "X[10]         56.0901      9.764      5.745      0.000      36.880      75.300\n",
      "X[11]        -54.7513     17.251     -3.174      0.002     -88.691     -20.811\n",
      "X[12]         67.0789     12.078      5.554      0.000      43.318      90.840\n",
      "X[13]        -34.3283      6.434     -5.336      0.000     -46.986     -21.670\n",
      "X[14]        -21.6528      7.927     -2.732      0.007     -37.248      -6.057\n",
      "X[15]        -16.2825     10.806     -1.507      0.133     -37.543       4.978\n",
      "X[16]          5.2631      9.263      0.568      0.570     -12.962      23.488\n",
      "X[17]        -17.8051      8.322     -2.139      0.033     -34.178      -1.432\n",
      "X[18]         43.7790     10.156      4.311      0.000      23.799      63.759\n",
      "X[19]         32.0173     44.217      0.724      0.470     -54.975     119.009\n",
      "X[20]         29.9516      9.402      3.186      0.002      11.454      48.449\n",
      "X[21]         -2.5736     11.991     -0.215      0.830     -26.165      21.018\n",
      "X[22]          1.6386      7.657      0.214      0.831     -13.425      16.703\n",
      "==============================================================================\n",
      "Omnibus:                       24.512   Durbin-Watson:                   1.212\n",
      "Prob(Omnibus):                  0.000   Jarque-Bera (JB):               28.180\n",
      "Skew:                           0.630   Prob(JB):                     7.60e-07\n",
      "Kurtosis:                       3.619   Cond. No.                     3.10e+16\n",
      "==============================================================================\n",
      "\n",
      "Notes:\n",
      "[1] Standard Errors assume that the covariance matrix of the errors is correctly specified.\n",
      "[2] The smallest eigenvalue is 1.36e-29. This might indicate that there are\n",
      "strong multicollinearity problems or that the design matrix is singular.\n"
     ]
    }
   ],
   "source": [
    "# Add a constant term to the independent variable\n",
    "X = df_new\n",
    "\n",
    "# Define the dependent variable\n",
    "y = df_combined['Price']\n",
    "\n",
    "model = smf.ols(formula='y ~ X',data=df_combined).fit()\n",
    "# Get the summary of the regression\n",
    "print(model.summary())"
   ]
  },
  {
   "cell_type": "code",
   "execution_count": 86,
   "metadata": {},
   "outputs": [
    {
     "name": "stdout",
     "output_type": "stream",
     "text": [
      "Mean Squared Error: 2813.6541158986365\n"
     ]
    }
   ],
   "source": [
    "X_train, X_test, y_train, y_test = train_test_split(X, y, test_size=0.2, random_state=42)\n",
    "\n",
    "# Create a linear regression model\n",
    "linear_model = LinearRegression()\n",
    "\n",
    "# Fit the model on the training data\n",
    "linear_model.fit(X_train, y_train)\n",
    "\n",
    "# Predict on the testing data\n",
    "y_pred = linear_model.predict(X_test)\n",
    "\n",
    "# Evaluate the model\n",
    "mse = mean_squared_error(y_test, y_pred)\n",
    "print(f'Mean Squared Error: {mse}')"
   ]
  },
  {
   "cell_type": "code",
   "execution_count": 87,
   "metadata": {},
   "outputs": [
    {
     "name": "stdout",
     "output_type": "stream",
     "text": [
      "Coefficients: [ 19.98423888  19.05186944 -10.60709174 -16.58955287  58.71174403\n",
      "  45.6300455  -34.04574286  18.78645663 -72.5075837  -16.65936374\n",
      "  47.5673344  -52.75345187  59.70030248 -37.840188   -29.95803729\n",
      " -29.94641044  -7.17575285 -26.10492785  35.197513    29.43574317\n",
      "  31.73154832  -1.48116806  -1.69850801]\n",
      "Intercept: 73.25368037721648\n"
     ]
    }
   ],
   "source": [
    "print(f'Coefficients: {linear_model.coef_}')\n",
    "print(f'Intercept: {linear_model.intercept_}')"
   ]
  },
  {
   "cell_type": "code",
   "execution_count": 88,
   "metadata": {},
   "outputs": [],
   "source": [
    "y_pred = linear_model.predict(X_test)"
   ]
  },
  {
   "cell_type": "code",
   "execution_count": 89,
   "metadata": {},
   "outputs": [
    {
     "name": "stdout",
     "output_type": "stream",
     "text": [
      "OOS Root Mean Squared Error: 53.043888581990636\n",
      "OOS R-squared (R2) Score: 0.5345317658649789\n"
     ]
    }
   ],
   "source": [
    "# Evaluate the model\n",
    "mse = mean_squared_error(y_test, y_pred)\n",
    "r2 = r2_score(y_test, y_pred)\n",
    "rmse = np.sqrt(mse)\n",
    "\n",
    "print(f'OOS Root Mean Squared Error: {rmse}')\n",
    "print(f'OOS R-squared (R2) Score: {r2}')"
   ]
  },
  {
   "cell_type": "markdown",
   "metadata": {},
   "source": [
    "Lasso regularization"
   ]
  },
  {
   "cell_type": "code",
   "execution_count": 90,
   "metadata": {},
   "outputs": [],
   "source": [
    "# Feature scaling using StandardScaler\n",
    "scaler = StandardScaler()\n",
    "X_train_scaled = scaler.fit_transform(X_train)\n",
    "X_test_scaled = scaler.transform(X_test)"
   ]
  },
  {
   "cell_type": "code",
   "execution_count": 91,
   "metadata": {},
   "outputs": [
    {
     "name": "stdout",
     "output_type": "stream",
     "text": [
      "0.26588062322160444\n"
     ]
    }
   ],
   "source": [
    "# Assuming X_train and y_train are your features and target variable\n",
    "lasso_cv = LassoCV(cv=5, random_state=0).fit(X_train, y_train)\n",
    "\n",
    "print(lasso_cv.alpha_)\n"
   ]
  },
  {
   "cell_type": "code",
   "execution_count": 92,
   "metadata": {},
   "outputs": [],
   "source": [
    "# Lasso Regression Model\n",
    "lasso_model = Lasso(alpha=0.26)\n",
    "\n",
    "# Fit Lasso model to the scaled training data\n",
    "lasso_model.fit(X_train_scaled, y_train)\n",
    "\n",
    "# Make predictions on the training and test sets\n",
    "y_pred_lasso = lasso_model.predict(X_test_scaled)"
   ]
  },
  {
   "cell_type": "code",
   "execution_count": 93,
   "metadata": {},
   "outputs": [
    {
     "name": "stdout",
     "output_type": "stream",
     "text": [
      "OOS Root Mean Squared Error: 52.79219510300894\n",
      "OOS R-squared (R2) Score: 0.5389385833545384\n"
     ]
    }
   ],
   "source": [
    "# Evaluate the model\n",
    "mse = mean_squared_error(y_test, y_pred_lasso)\n",
    "r2 = r2_score(y_test, y_pred_lasso)\n",
    "rmse = np.sqrt(mse)\n",
    "\n",
    "print(f'OOS Root Mean Squared Error: {rmse}')\n",
    "print(f'OOS R-squared (R2) Score: {r2}')"
   ]
  },
  {
   "cell_type": "markdown",
   "metadata": {},
   "source": [
    "Random Forest"
   ]
  },
  {
   "cell_type": "code",
   "execution_count": 94,
   "metadata": {},
   "outputs": [],
   "source": [
    "rf_model = RandomForestRegressor(n_estimators=500, oob_score=True)\n",
    "\n",
    "X_train, X_test, y_train, y_test = train_test_split(X, y, test_size=0.3, random_state=1)\n",
    "\n",
    "rf_model.fit(X_train, y_train)\n",
    "\n",
    "rf_predictions = rf_model.predict(X_test)"
   ]
  },
  {
   "cell_type": "code",
   "execution_count": 95,
   "metadata": {},
   "outputs": [
    {
     "name": "stdout",
     "output_type": "stream",
     "text": [
      "OOS Root Mean Squared Error: 44.94636504767898\n",
      "OOS R-squared (R2) Score: 0.6821102669882699\n"
     ]
    }
   ],
   "source": [
    "# Evaluate the model\n",
    "mse = mean_squared_error(y_test, rf_predictions)\n",
    "r2 = r2_score(y_test, rf_predictions)\n",
    "rmse = np.sqrt(mse)\n",
    "\n",
    "print(f'OOS Root Mean Squared Error: {rmse}')\n",
    "print(f'OOS R-squared (R2) Score: {r2}')"
   ]
  },
  {
   "cell_type": "code",
   "execution_count": 96,
   "metadata": {},
   "outputs": [],
   "source": [
    "xg_model = xgb.XGBRegressor(objective ='reg:squarederror', colsample_bytree = 0.3, learning_rate = 0.1, max_depth = 5, alpha = 10, n_estimators = 10)\n",
    "\n",
    "xg_model.fit(X_train, y_train)\n",
    "\n",
    "xg_pred = xg_reg.predict(X_test)\n"
   ]
  },
  {
   "cell_type": "code",
   "execution_count": 97,
   "metadata": {},
   "outputs": [
    {
     "name": "stdout",
     "output_type": "stream",
     "text": [
      "OOS Root Mean Squared Error: 64.87055641457668\n",
      "OOS R-squared (R2) Score: 0.33781003028184653\n"
     ]
    }
   ],
   "source": [
    "# Evaluate the model\n",
    "mse = mean_squared_error(y_test, xg_pred)\n",
    "r2 = r2_score(y_test, xg_pred)\n",
    "rmse = np.sqrt(mse)\n",
    "\n",
    "print(f'OOS Root Mean Squared Error: {rmse}')\n",
    "print(f'OOS R-squared (R2) Score: {r2}')"
   ]
  }
 ],
 "metadata": {
  "kernelspec": {
   "display_name": "base",
   "language": "python",
   "name": "python3"
  },
  "language_info": {
   "codemirror_mode": {
    "name": "ipython",
    "version": 3
   },
   "file_extension": ".py",
   "mimetype": "text/x-python",
   "name": "python",
   "nbconvert_exporter": "python",
   "pygments_lexer": "ipython3",
   "version": "3.11.5"
  }
 },
 "nbformat": 4,
 "nbformat_minor": 2
}
